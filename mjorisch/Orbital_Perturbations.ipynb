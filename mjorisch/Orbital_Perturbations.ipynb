{
 "cells": [
  {
   "cell_type": "markdown",
   "metadata": {},
   "source": [
    "###### Content under Creative Commons Attribution license CC-BY 4.0, code under MIT license (c)2014 M.Z. Jorisch"
   ]
  },
  {
   "cell_type": "markdown",
   "metadata": {},
   "source": [
    "<h1 align=\"center\">Orbital Perturbations</h1>"
   ]
  },
  {
   "cell_type": "markdown",
   "metadata": {},
   "source": [
    "In this lesson, we will discuss the orbits of spacecraft and planets, and how those orbits can be affected by another body flying by.  We will look at Encke's method, which was created by _____ in _____, and uses an ODE to describe the \"new\" orbit of a body when affected by the pull of an additional body flying by.\n",
    "\n",
    "In traditional dynamics, the standard two body problem is used to describe two bodies in motion with one orbiting the other.  This fails to take into account the affect of outside bodies on the orbit and can produce an orbit very different than the \"true\" orbit.\n",
    "\n",
    "These orbits play a large role in our daily lives.  There are numerous satelittes currently orbiting Earth as we speak, which are used for communications, GPS, as well as other data grabbers.  These satelittes can have slight changes to their orbits around Earth caused by other satelittes and need to be taken into consideration when designing orbital parameters for them."
   ]
  },
  {
   "cell_type": "markdown",
   "metadata": {},
   "source": [
    "We will look at both the traditional two body motion and compare it to Encke's method and see how much the orbits vary over time."
   ]
  },
  {
   "cell_type": "markdown",
   "metadata": {},
   "source": [
    "<h2 align=\"center\">Encke's Method</h2> "
   ]
  },
  {
   "cell_type": "markdown",
   "metadata": {},
   "source": [
    "![Screen Shot 2015-12-01 at 10.42.54 AM](./Figures/Screen Shot 2015-12-01 at 10.42.54 AM.png)\n",
    "<h4 align=\"center\">Figure 1. Visualization of Encke's Method ([Analytical Mechanics of Aerospace Systems Pg 342](http://www.control.aau.dk/~jan/undervisning/MechanicsI/mechsys/chapter10.pdf))</h4>"
   ]
  },
  {
   "cell_type": "markdown",
   "metadata": {},
   "source": [
    "Encke's method describes the difference between the standard Keplerian orbit and a perturbed orbit which is affected by the flyby of a third body.  Johann Franz Encke came up with this method in 1851.  The method is based on the equations of the two orbits.\n",
    "\n",
    "The Keplerian orbit or the osculating orbit is represented by the equation:\n",
    "\n",
    "$$\\frac{d^2 \\vec{r}_{osc}}{dt^2} = - \\frac{\\mu}{r^3 _{osc}} \\vec{r}_{osc}$$\n",
    "\n",
    "The perturbed orbit is represented by a similar equation:\n",
    "\n",
    "$$\\frac{d^2 \\vec{r}}{dt^2} = - \\frac{\\mu}{r^3} \\vec{r} + \\vec{a}_d$$\n",
    "\n",
    "When looking at the two equations, the only difference between the osculating orbit and the perturbed orbit is the term $\\vec{a}_d$, which is the acceleration vector caused by the third body flyby."
   ]
  },
  {
   "cell_type": "markdown",
   "metadata": {},
   "source": [
    "The acceleration vector can be found using the following:\n",
    "\n",
    "$$\\vec{a}_d = \\frac{1}{m_2} \\vec{f}_{d_2} - \\frac{1}{m_1} \\vec{f}_{d_1}$$\n",
    "\n",
    "The two accelerations cancel out many times. (Reference)\n",
    "\n",
    "This leads to: \n",
    "\n",
    "$$\\vec{a}_d = \\frac{1}{m_2} \\frac{G m_2 m_3}{|\\vec{r}_23|^3} \\vec{r}_23 - \\frac{1}{m_1} \\frac{G m_1 m_3}{|\\vec{r}_13|^3} \\vec{r}_13$$\n",
    "\n",
    "Where $m_1$ is the mass of central body, $m_2$ is the mass of the body orbiting around $m_1$, and $m_3$ is the mass of the disturbing body"
   ]
  },
  {
   "cell_type": "markdown",
   "metadata": {},
   "source": [
    "Initially, at time $t_0 = 0$, the osculating orbit and perturbed are equal.  The change occurs at a time $t = t_0 + \\Delta t$.\n",
    "\n",
    "Let's define the difference between the radius of the osculating and perturbed obit as $\\delta$ and the difference between the velocities of the two orbits as $\\gamma$\n",
    "\n",
    "Therefore at time $t$ which we just defined, the radial and velocity components are:\n",
    "\n",
    "$$\\vec{\\delta}(t) = \\vec{r}(t) - \\vec{r}_{osc} (t)$$\n",
    "$$\\vec{\\gamma}(t) = \\vec{v}(t) - \\vec{v}_{osc} (t)$$"
   ]
  },
  {
   "cell_type": "markdown",
   "metadata": {},
   "source": [
    "We have some initial conditions as well.  As mentioned before the obrbits are equal at $t_0$ which gives us $\\vec{\\delta} (t_0) = 0$.  The velocity difference at $t_0$ is also zero. $\\frac{d \\vec{\\delta} (t_0)}{dt} = \\vec{\\gamma} (t_0) = 0$"
   ]
  },
  {
   "cell_type": "markdown",
   "metadata": {},
   "source": [
    "If we subtract our two initial equations we get:\n",
    "\n",
    "$$\\frac{d^2 \\vec{\\delta}}{dt^2} = \\vec{a}_d + \\mu \\left( \\frac{\\vec{r}_{osc}}{r_{osc} ^3} + \\frac{\\vec{r}}{r^3} \\right)$$\n",
    "\n",
    "This can be simiplied to:\n",
    "\n",
    "$$\\frac{d^2 \\vec{\\delta}}{dt^2} + \\frac{\\mu}{r_{osc} ^3} \\vec{\\delta} = \\frac{\\mu}{r_{osc} ^3} \\left( 1 - \\frac{r_{osc} ^3}{r^3} \\right) \\vec{r} + \\vec{a}_d$$\n",
    "\n",
    "Our term $1 - \\frac{r_{osc} ^3}{r^3}$ can be an issue due to the fact that at the beginning of flight $r_{osc}$ and $r$ are basically equal. That can't be too good, can it?\n",
    "\n",
    "Luckily we have a way to fix this!\n",
    "\n",
    "$$1 - \\frac{r_{osc} ^3}{r^3} = -B \\frac{3 + 3B + B^2}{1 + (1 + B) ^{\\frac{3}{2}}}$$\n",
    "Where $$B = \\frac{\\vec{\\delta} (\\vec{\\delta} - 2 \\vec{r})}{r^2}$$"
   ]
  },
  {
   "cell_type": "markdown",
   "metadata": {},
   "source": [
    "We can find the radial and velocity components using the initial values of the radius and velocity along with the Legrangian coefficients in terms of the eccentric anomaly $E$\n",
    "\n",
    "$$\\vec{r} = F \\vec{r}_0 + G \\vec{v}_0$$\n",
    "$$\\vec{v} = \\dot{F} \\vec{r}_0 + \\dot{G} \\vec{v}_0$$\n",
    "\n",
    "Where\n",
    "\n",
    "$$F = 1 + \\frac{a}{r_0} \\left[ cos(E - E_0) - 1 \\right]$$\n",
    "$$G = \\frac{a \\alpha _0}{\\mu} \\left[ 1 - cos(E - E_0) \\right] + r_0 \\sqrt{\\frac{a}{\\mu}} sin(E - E_0)$$\n",
    "$$\\dot{F} = - \\frac{\\sqrt{\\mu a}}{r r_0} sin(E - E_0)$$\n",
    "$$\\dot{G} = 1 + \\frac{a}{r} \\left[ cos(E - E_0) - 1 \\right]$$\n",
    "\n",
    "The eccentric anomaly $E$ is equal to $M + e sin(E)$.  $M$ is the mean anomaly and $e$ is the eccentricity."
   ]
  },
  {
   "cell_type": "code",
   "execution_count": 1,
   "metadata": {
    "collapsed": true
   },
   "outputs": [],
   "source": [
    "from matplotlib import pyplot\n",
    "import numpy\n",
    "from numpy import linalg\n",
    "%matplotlib inline\n",
    "from matplotlib import rcParams\n",
    "rcParams['font.family'] = 'serif'\n",
    "rcParams['font.size'] = 16"
   ]
  },
  {
   "cell_type": "code",
   "execution_count": 2,
   "metadata": {
    "collapsed": true
   },
   "outputs": [],
   "source": [
    "def Kepler_eqn(e, M):\n",
    "    \"\"\"Takes the eccentricity and mean anomaly of an orbit to solve Kepler's equation\n",
    "    \n",
    "    Parameters:\n",
    "    ----------\n",
    "        e : float\n",
    "            eccentricity of orbit\n",
    "        M : float\n",
    "            Mean anomaly of orbit\n",
    "        \n",
    "    Returns:\n",
    "    -------\n",
    "        E : float\n",
    "            Eccentric anomaly\n",
    "    \"\"\"\n",
    "    \n",
    "    E = M + e * numpy.sin(M) # eccentric anomoaly\n",
    "    fofE = E - e * numpy.sin(E) - M #eccentric anomaly as a function of E\n",
    "    fdotE = 1 - e * numpy.cos(E) #derivative with respect to E of fofE\n",
    "    dE = - fofE / fdotE # change in E\n",
    "    Enew = E + dE\n",
    "    tolerance = 1e-2\n",
    "    \n",
    "    while abs(fofE) > tolerance:\n",
    "        E = M + e * numpy.sin(Enew)\n",
    "        fofE = E - numpy.sin(E) - M\n",
    "        fdotE = 1 - e * numpy.cos(E)\n",
    "        dE = - fofE / fdotE\n",
    "        Enew = E + dE\n",
    "    \n",
    "    return E\n",
    "    \n",
    "    #Based off of code from Ashish Tewari"
   ]
  },
  {
   "cell_type": "code",
   "execution_count": 20,
   "metadata": {
    "collapsed": true
   },
   "outputs": [],
   "source": [
    "def ellip_orb(a, Period, mu, e, t0, r0, v0, t):\n",
    "    \n",
    "    \"\"\"Calculates the orbital position for an elliptical orbit\n",
    "    \n",
    "    Parameters:\n",
    "    ----------\n",
    "    \n",
    "    a  : float\n",
    "        Semi-major axis\n",
    "    Period : float\n",
    "        Period of planetary orbit\n",
    "    mu : float\n",
    "        Gravitational parameter\n",
    "    t0 : float\n",
    "        Initial time t = 0\n",
    "    r0 : array of float\n",
    "        Initial positional array\n",
    "    v0 : array of float\n",
    "        Initial velocity array\n",
    "    t : float\n",
    "        time\n",
    "    \n",
    "    Returns:\n",
    "    -------\n",
    "    \n",
    "    r : array of float\n",
    "        Array of radius at each time t\n",
    "    v : array of float\n",
    "        Array of velocity at each time t\n",
    "    \"\"\"\n",
    "    \n",
    "    r0_norm = numpy.linalg.norm(r0) #normalized version of initial radius\n",
    "    \n",
    "    v0_norm = numpy.linalg.norm(v0) #normalized version of initial velocity\n",
    "    \n",
    "    alpha = r0 * v0 # constant\n",
    "    \n",
    "    v0_t = numpy.transpose(v0)\n",
    "    \n",
    "    H = numpy.cross(r0, v0_t) # angular momentum\n",
    "    \n",
    "    H_norm = numpy.linalg.norm(H)\n",
    "\n",
    "    p = (H_norm * H_norm) / mu # constant which is related to a -> p = a (1 - e ^ 2)\n",
    "    \n",
    "    etheta0 = p / r0_norm - 1 # eccentricity at theta = 0 aka the periapsis\n",
    "    \n",
    "    theta0 = numpy.pi\n",
    "            \n",
    "    n = 2 * numpy.pi / (Period) # n given the period\n",
    "\n",
    "    E0 = 2 * numpy.arctan(numpy.sqrt((1 - e) / (1 + e)) * numpy.tan(0.5 * theta0))\n",
    "    \n",
    "    tau = t0 + (- E0 + e * numpy.sin(E0)) / n # found from time since perigee\n",
    "\n",
    "    M = n * (t - tau) # mean anomaly\n",
    "\n",
    "    E = Kepler_eqn(e, M)\n",
    "    \n",
    "    r_leg = a * (1 - e * numpy.cos(E)) # radius for legrangian coefficients\n",
    "    \n",
    "    F = 1 + a * (numpy.cos(E - E0) - 1) * r0_norm\n",
    "    \n",
    "    G = a * alpha * (1 - numpy.cos(E - E0)) / mu + r0_norm * numpy.sqrt(a / mu) * numpy.sin(E - E0)\n",
    "    \n",
    "    F_dot = - numpy.sqrt(mu * a) * (numpy.sin(E - E0)) / (r_leg * r0_norm)\n",
    "    \n",
    "    G_dot = 1 + a * (numpy.cos(E - E0) - 1) / r_leg\n",
    "    \n",
    "    r = numpy.zeros_like(r0)\n",
    "    v = numpy.zeros_like(v0)\n",
    "    \n",
    "    \n",
    "    r = F * r0 + G * v0\n",
    "    v = F_dot * r0 + G_dot * v0\n",
    "    \n",
    "    return r, v\n",
    "\n",
    "    #Based off of code by Ashish Tewari"
   ]
  },
  {
   "cell_type": "code",
   "execution_count": 21,
   "metadata": {
    "collapsed": false
   },
   "outputs": [],
   "source": [
    "def acceleration_d(m1, m2, m3, r, r3):\n",
    "    \n",
    "    \"\"\"Calculates the acceleration due to the disturbing orbit\n",
    "    \n",
    "    Parameters:\n",
    "    ----------\n",
    "    m1 : float\n",
    "        Mass of central body\n",
    "    m2 : float\n",
    "        Mass of second body\n",
    "    m3 : float\n",
    "        Mass of third (disturbing) body\n",
    "    r : array of float\n",
    "        Radial distance between body two and one\n",
    "    r3: array of float\n",
    "        Radial distance between body three and one\n",
    "        \n",
    "    Returns:\n",
    "    -------\n",
    "    a_d : array of float\n",
    "        Acceleration due to the disturbing orbit\n",
    "    \"\"\"\n",
    "    a_d = numpy.zeros((2, 1))\n",
    "    \n",
    "    G = 6.674e-11 # Gravitational constant\n",
    "    \n",
    "    r13 = r3\n",
    "    \n",
    "    r23 = r - r3\n",
    "    \n",
    "    r23_norm = numpy.linalg.norm(r23)\n",
    "    \n",
    "    r13_norm = numpy.linalg.norm(r13)\n",
    "    \n",
    "    a_d = (((1 / m2) * ((G* m2 * m3)/ (r23_norm ** 3))) * r23) - (((1 / m1) * ((G * m1 * m3) / (r13_norm ** 3))) * r13)\n",
    "    \n",
    "    return a_d"
   ]
  },
  {
   "cell_type": "code",
   "execution_count": 24,
   "metadata": {
    "collapsed": false
   },
   "outputs": [],
   "source": [
    "mu3 = 1.2669e17\n",
    "m3 = 1.8983e27\n",
    "e3 = .0489\n",
    "a3 = 778000000.\n",
    "\n",
    "mu = 4.2828e13\n",
    "m2 = 6.4174e23\n",
    "e = .0934\n",
    "a = 228000000.\n",
    "\n",
    "mu1 = 1.3271e20\n",
    "m1 = 1.989e30\n",
    "\n",
    "dt = 24 * 3600\n",
    "tfinal = 500 * dt\n",
    "N = int(tfinal / dt) + 1\n",
    "\n",
    "t = numpy.linspace(0,tfinal,N)\n",
    "r0 = numpy.array([228000000., 0.])\n",
    "v0 = numpy.array([-21.84, -10.27])\n",
    "r3_0 = numpy.array([778000000., 0.])\n",
    "v3_0 = numpy.array([-13.04, -.713])\n",
    "r = numpy.empty((N, 2))\n",
    "v = numpy.empty((N, 2))\n",
    "gamma =  numpy.empty((N, 2))\n",
    "delta = numpy.empty((N, 2))\n",
    "r_n = numpy.empty((N, 2))\n",
    "v_n = numpy.empty((N, 2))\n",
    "a_d = numpy.empty((N, 2))\n",
    "r_osc = numpy.empty((N, 2))\n",
    "r_osc_n = numpy.empty((N, 2))\n",
    "r3_n = numpy.empty((N, 2))\n",
    "\n",
    "\n",
    "for i,ts in enumerate(t):\n",
    "    delta = numpy.zeros_like(r0)\n",
    "    gamma = numpy.zeros_like(r0)\n",
    "    r_osc, v_osc = ellip_orb(a, mu1, e, t[0], r0, v0, ts)\n",
    "    r_osc_norm = numpy.linalg.norm(r_osc)\n",
    "    r0_norm = numpy.linalg.norm(r0)\n",
    "    r3, v3 = ellip_orb(a3, mu3, e3, t[0], r3_0, v3_0, ts)\n",
    "    a_d = acceleration_d(m1, m2, m3, r_osc, r3)\n",
    "    gamma = mu3 * (dt) * ((1 - (r_osc_norm / r0_norm) ** 3) / r_osc_norm ** 3) + a_d * (dt)\n",
    "    delta = gamma * (dt)\n",
    "    r = r_osc + delta\n",
    "    v = v_osc + gamma\n",
    "    r_osc_n[i,:] = r_osc\n",
    "    r3_n[i,:] = r3\n",
    "    r_n[i,:] = r\n",
    "    v_n[i,:] = v    \n",
    "    "
   ]
  },
  {
   "cell_type": "code",
   "execution_count": 25,
   "metadata": {
    "collapsed": false,
    "scrolled": false
   },
   "outputs": [
    {
     "data": {
      "image/png": "[encoded data removed]",
      "text/plain": [
       "<matplotlib.figure.Figure at 0x108ae1cf8>"
      ]
     },
     "metadata": {},
     "output_type": "display_data"
    }
   ],
   "source": [
    "# print(r)\n",
    "# print(rg)\n",
    "# print(r_n)\n",
    "# print(v_n)\n",
    "# print(a_d)\n",
    "# print(r_osc_norm)\n",
    "# print(r0_norm)\n",
    "# print(delta, gamma)\n",
    "x = numpy.linspace(t[0], t[-1], N)\n",
    "pyplot.figure(figsize = (8,8))\n",
    "pyplot.grid(True)\n",
    "pyplot.plot(r_n[:,0], r_n[:,1])\n",
    "pyplot.plot(r_osc_n[:,0], r_osc_n[:,1])\n",
    "pyplot.legend(['Perturbed Orbit', 'Osculating Orbit']);"
   ]
  },
  {
   "cell_type": "code",
   "execution_count": null,
   "metadata": {
    "collapsed": false
   },
   "outputs": [],
   "source": [
    "r0 = numpy.array([228., 0.])\n",
    "#r0[0] = 228000000\n",
    "#r0[1] = 0\n",
    "\n",
    "v0 = numpy.array([-21.84, -10.27])\n",
    "#v0[0] = -21.84\n",
    "#v0[1] = -10.27\n",
    "\n",
    "v0_t = numpy.transpose(v0)\n",
    "mu = 4.2828e13\n",
    "e = .0934\n",
    "\n",
    "print(r0)\n",
    "print(v0)\n",
    "\n",
    "H = numpy.cross(r0, v0_t)\n",
    "print(H)\n",
    "\n",
    "r0_norm = numpy.linalg.norm(r0)\n",
    "v0_norm = numpy.linalg.norm(v0)\n",
    "print(v0_norm)\n",
    "a = 1 / ( (v0_norm * v0_norm) / (mu + 2) / r0_norm)\n",
    "print(a)\n",
    "print(mu)"
   ]
  },
  {
   "cell_type": "code",
   "execution_count": null,
   "metadata": {
    "collapsed": false
   },
   "outputs": [],
   "source": [
    "#import time\n",
    "r = numpy.zeros_like(r0)\n",
    "v = numpy.zeros_like(v0)\n",
    "\n",
    "#tic = time.time()\n",
    "r, v = ellip_orb(mu, e, 0, r0, v0, 360000)\n",
    "#toc = time.time()\n",
    "#print(toc - tic)\n",
    "print(r)\n",
    "print(v)"
   ]
  },
  {
   "cell_type": "code",
   "execution_count": null,
   "metadata": {
    "collapsed": false
   },
   "outputs": [],
   "source": [
    "r3_0 = numpy.array([778., 0])\n",
    "v3_0 = numpy.array([-13.04, -.713])\n",
    "\n",
    "mu3 = 1.2669e17\n",
    "m3 = 1.8983e27\n",
    "e3 = .0489\n",
    "a3 = 778\n",
    "\n",
    "r3, v3 = ellip_orb(mu3, e3, 0, r3_0, v3_0, 360000)\n",
    "\n",
    "print(r3)\n",
    "print(v3)"
   ]
  },
  {
   "cell_type": "code",
   "execution_count": null,
   "metadata": {
    "collapsed": false
   },
   "outputs": [],
   "source": [
    "e = .0934\n",
    "theta0 = 3 * numpy.pi / 2\n",
    "mu = 4.2828e13\n",
    "a = 228000000\n",
    "\n",
    "E0 = 2 * numpy.arctan(numpy.sqrt((1 - e) / (1 + e)) * numpy.tan(0.5 * theta0))\n",
    "\n",
    "print(E0)\n",
    "\n",
    "n = numpy.sqrt(mu / 228 ** 3)\n",
    "\n",
    "tau = 0 + (- E0 + e * numpy.sin(E0)) / n # found from time since perigee\n",
    "    \n",
    "M = n * (10 - tau)\n",
    "\n",
    "print(M)\n",
    "#E = Kepler_eqn(e, M)\n",
    "E = M + e * numpy.sin(M)\n",
    "print(E)\n",
    "\n",
    "r_leg = a * (1 - e * numpy.cos(E))\n",
    "print(r_leg)\n",
    "r0_norm = numpy.linalg.norm(r0)\n",
    "print(r0_norm)\n"
   ]
  },
  {
   "cell_type": "code",
   "execution_count": null,
   "metadata": {
    "collapsed": false
   },
   "outputs": [],
   "source": [
    "r0 = numpy.array([228., 0.])\n",
    "v0 = numpy.array([-21.84, -10.27])\n",
    "e = .0934\n",
    "theta0 = 3 * numpy.pi / 2\n",
    "mu = 4.2828e13\n",
    "m2 = 6.4174e23\n",
    "dt = 24 * 3600.\n",
    "T = 100.\n",
    "N = int(T / dt) + 1\n",
    "t = 0\n",
    "\n",
    "mu3 = 1.2669e17\n",
    "m3 = 1.8983e27\n",
    "e3 = .0489\n",
    "a3 = 778\n",
    "\n",
    "m1 = 1.989e30    "
   ]
  },
  {
   "cell_type": "code",
   "execution_count": null,
   "metadata": {
    "collapsed": false
   },
   "outputs": [],
   "source": [
    "#from IPython.core.display import HTML\n",
    "#css_file = '../numericalmoocstyle.css'\n",
    "#HTML(open(css_file, \"r\").read())"
   ]
  },
  {
   "cell_type": "code",
   "execution_count": null,
   "metadata": {
    "collapsed": true
   },
   "outputs": [],
   "source": []
  }
 ],
 "metadata": {
  "kernelspec": {
   "display_name": "Python 3",
   "language": "python",
   "name": "python3"
  },
  "language_info": {
   "codemirror_mode": {
    "name": "ipython",
    "version": 3
   },
   "file_extension": ".py",
   "mimetype": "text/x-python",
   "name": "python",
   "nbconvert_exporter": "python",
   "pygments_lexer": "ipython3",
   "version": "3.4.3"
  }
 },
 "nbformat": 4,
 "nbformat_minor": 0
}
