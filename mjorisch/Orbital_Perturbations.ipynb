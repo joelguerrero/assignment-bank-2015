{
 "cells": [
  {
   "cell_type": "markdown",
   "metadata": {},
   "source": [
    "###### Content under Creative Commons Attribution license CC-BY 4.0, code under MIT license (c)2014 M.Z. Jorisch"
   ]
  },
  {
   "cell_type": "markdown",
   "metadata": {},
   "source": [
    "<h1 align=\"center\">Orbital Perturbations</h1>"
   ]
  },
  {
   "cell_type": "markdown",
   "metadata": {},
   "source": [
    "In this lesson, we will discuss the orbits of spacecraft and planets, and how those orbits can be affected by another body flying by.  We will look at Encke's method, which was created by _____ in _____, and uses an ODE to describe the \"new\" orbit of a body when affected by the pull of an additional body flying by.\n",
    "\n",
    "In traditional dynamics, the standard two body problem is used to describe two bodies in motion with one orbiting the other.  This fails to take into account the affect of outside bodies on the orbit and can produce an orbit very different than the \"true\" orbit.\n",
    "\n",
    "These orbits play a large role in our daily lives.  There are numerous satelittes currently orbiting Earth as we speak, which are used for communications, GPS, as well as other data grabbers.  These satelittes can have slight changes to their orbits around Earth caused by other satelittes and need to be taken into consideration when designing orbital parameters for them."
   ]
  },
  {
   "cell_type": "markdown",
   "metadata": {},
   "source": [
    "We will look at both the traditional two body motion and compare it to Encke's method and see how much the orbits vary over time."
   ]
  },
  {
   "cell_type": "markdown",
   "metadata": {},
   "source": [
    "<h2 align=\"center\">Encke's Method</h2> "
   ]
  },
  {
   "cell_type": "markdown",
   "metadata": {},
   "source": [
    "![Screen Shot 2015-12-01 at 10.42.54 AM](./Figures/Screen Shot 2015-12-01 at 10.42.54 AM.png)\n",
    "<h4 align=\"center\">Figure 1. Visualization of Encke's Method ([Analytical Mechanics of Aerospace Systems Pg 342](http://www.control.aau.dk/~jan/undervisning/MechanicsI/mechsys/chapter10.pdf))</h4>"
   ]
  },
  {
   "cell_type": "markdown",
   "metadata": {},
   "source": [
    "Encke's method describes the difference between the standard Keplerian orbit and a perturbed orbit which is affected by the flyby of a third body.  Johann Franz Encke came up with this method in 1851.  The method is based on the equations of the two orbits.\n",
    "\n",
    "The Keplerian orbit or the osculating orbit is represented by the equation:\n",
    "\n",
    "$$\\frac{d^2 \\vec{r}_{osc}}{dt^2} = - \\frac{\\mu}{r^3 _{osc}} \\vec{r}_{osc}$$\n",
    "\n",
    "The perturbed orbit is represented by a similar equation:\n",
    "\n",
    "$$\\frac{d^2 \\vec{r}}{dt^2} = - \\frac{\\mu}{r^3} \\vec{r} + \\vec{a}_d$$\n",
    "\n",
    "When looking at the two equations, the only difference between the osculating orbit and the perturbed orbit is the term $\\vec{a}_d$, which is the acceleration vector caused by the third body flyby."
   ]
  },
  {
   "cell_type": "markdown",
   "metadata": {},
   "source": [
    "The acceleration vector can be found using the following:\n",
    "\n",
    "$$\\vec{a}_d = \\frac{1}{m_2} \\vec{f}_{d_2} - \\frac{1}{m_1} \\vec{f}_{d_1}$$\n",
    "\n",
    "The two accelerations cancel out many times. (Reference)\n",
    "\n",
    "This leads to: \n",
    "\n",
    "$$\\vec{a}_d = \\frac{1}{m_2} \\frac{G m_2 m_3}{|\\vec{r}_23|^3} \\vec{r}_23 - \\frac{1}{m_1} \\frac{G m_1 m_3}{|\\vec{r}_13|^3} \\vec{r}_13$$\n",
    "\n",
    "Where $m_1$ is the mass of central body, $m_2$ is the mass of the body orbiting around $m_1$, and $m_3$ is the mass of the disturbing body"
   ]
  },
  {
   "cell_type": "markdown",
   "metadata": {},
   "source": [
    "Initially, at time $t_0 = 0$, the osculating orbit and perturbed are equal.  The change occurs at a time $t = t_0 + \\Delta t$.\n",
    "\n",
    "Let's define the difference between the radius of the osculating and perturbed obit as $\\delta$ and the difference between the velocities of the two orbits as $\\gamma$\n",
    "\n",
    "Therefore at time $t$ which we just defined, the radial and velocity components are:\n",
    "\n",
    "$$\\vec{\\delta}(t) = \\vec{r}(t) - \\vec{r}_{osc} (t)$$\n",
    "$$\\vec{\\gamma}(t) = \\vec{v}(t) - \\vec{v}_{osc} (t)$$"
   ]
  },
  {
   "cell_type": "markdown",
   "metadata": {},
   "source": [
    "We have some initial conditions as well.  As mentioned before the obrbits are equal at $t_0$ which gives us $\\vec{\\delta} (t_0) = 0$.  The velocity difference at $t_0$ is also zero. $\\frac{d \\vec{\\delta} (t_0)}{dt} = \\vec{\\gamma} (t_0) = 0$"
   ]
  },
  {
   "cell_type": "markdown",
   "metadata": {},
   "source": [
    "If we subtract our two initial equations we get:\n",
    "\n",
    "$$\\frac{d^2 \\vec{\\delta}}{dt^2} = \\vec{a}_d + \\mu \\left( \\frac{\\vec{r}_{osc}}{r_{osc} ^3} + \\frac{\\vec{r}}{r^3} \\right)$$\n",
    "\n",
    "This can be simiplied to:\n",
    "\n",
    "$$\\frac{d^2 \\vec{\\delta}}{dt^2} + \\frac{\\mu}{r_{osc} ^3} \\vec{\\delta} = \\frac{\\mu}{r_{osc} ^3} \\left( 1 - \\frac{r_{osc} ^3}{r^3} \\right) \\vec{r} + \\vec{a}_d$$\n",
    "\n",
    "Our term $1 - \\frac{r_{osc} ^3}{r^3}$ can be an issue due to the fact that at the beginning of flight $r_{osc}$ and $r$ are basically equal. That can't be too good, can it?\n",
    "\n",
    "Luckily we have a way to fix this!\n",
    "\n",
    "$$1 - \\frac{r_{osc} ^3}{r^3} = -B \\frac{3 + 3B + B^2}{1 + (1 + B) ^{\\frac{3}{2}}}$$\n",
    "Where $$B = \\frac{\\vec{\\delta} (\\vec{\\delta} - 2 \\vec{r})}{r^2}$$"
   ]
  },
  {
   "cell_type": "markdown",
   "metadata": {},
   "source": [
    "We can find the radial and velocity components using the initial values of the radius and velocity along with the Legrangian coefficients in terms of the eccentric anomaly $E$\n",
    "\n",
    "$$\\vec{r} = F \\vec{r}_0 + G \\vec{v}_0$$\n",
    "$$\\vec{v} = \\dot{F} \\vec{r}_0 + \\dot{G} \\vec{v}_0$$\n",
    "\n",
    "Where\n",
    "\n",
    "$$F = 1 + \\frac{a}{r_0} \\left[ cos(E - E_0) - 1 \\right]$$\n",
    "$$G = \\frac{a \\alpha _0}{\\mu} \\left[ 1 - cos(E - E_0) \\right] + r_0 \\sqrt{\\frac{a}{\\mu}} sin(E - E_0)$$\n",
    "$$\\dot{F} = - \\frac{\\sqrt{\\mu a}}{r r_0} sin(E - E_0)$$\n",
    "$$\\dot{G} = 1 + \\frac{a}{r} \\left[ cos(E - E_0) - 1 \\right]$$"
   ]
  },
  {
   "cell_type": "code",
   "execution_count": null,
   "metadata": {
    "collapsed": true
   },
   "outputs": [],
   "source": []
  }
 ],
 "metadata": {
  "kernelspec": {
   "display_name": "Python 3",
   "language": "python",
   "name": "python3"
  },
  "language_info": {
   "codemirror_mode": {
    "name": "ipython",
    "version": 3
   },
   "file_extension": ".py",
   "mimetype": "text/x-python",
   "name": "python",
   "nbconvert_exporter": "python",
   "pygments_lexer": "ipython3",
   "version": "3.4.3"
  }
 },
 "nbformat": 4,
 "nbformat_minor": 0
}
