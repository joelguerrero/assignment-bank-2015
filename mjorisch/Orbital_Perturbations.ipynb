{
 "cells": [
  {
   "cell_type": "markdown",
   "metadata": {},
   "source": [
    "###### Content under Creative Commons Attribution license CC-BY 4.0, code under MIT license (c)2014 M.Z. Jorisch"
   ]
  },
  {
   "cell_type": "markdown",
   "metadata": {},
   "source": [
    "# Orbital Perturbations"
   ]
  },
  {
   "cell_type": "markdown",
   "metadata": {},
   "source": [
    "In this lesson, we will discuss the orbits of spacecraft and planets, and how those orbits can be affected by another body flying by.  We will look at Encke's method, which was created by _____ in _____, and uses an ODE to describe the \"new\" orbit of a body when affected by the pull of an additional body flying by.\n",
    "\n",
    "In traditional dynamics, the standard two body problem is used to describe two bodies in motion with one orbiting the other.  This fails to take into account the affect of outside bodies on the orbit and can produce an orbit very different than the \"true\" orbit.\n",
    "\n",
    "These orbits play a large role in our daily lives.  There are numerous satelittes currently orbiting Earth as we speak, which are used for communications, GPS, as well as other data grabbers.  These satelittes can have slight changes to their orbits around Earth caused by other satelittes and need to be taken into consideration when designing orbital parameters for them."
   ]
  },
  {
   "cell_type": "code",
   "execution_count": null,
   "metadata": {
    "collapsed": true
   },
   "outputs": [],
   "source": []
  }
 ],
 "metadata": {
  "kernelspec": {
   "display_name": "Python 3",
   "language": "python",
   "name": "python3"
  },
  "language_info": {
   "codemirror_mode": {
    "name": "ipython",
    "version": 3
   },
   "file_extension": ".py",
   "mimetype": "text/x-python",
   "name": "python",
   "nbconvert_exporter": "python",
   "pygments_lexer": "ipython3",
   "version": "3.4.3"
  }
 },
 "nbformat": 4,
 "nbformat_minor": 0
}
