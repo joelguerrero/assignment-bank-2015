{
 "cells": [
  {
   "cell_type": "markdown",
   "metadata": {},
   "source": [
    "Copyright statement?"
   ]
  },
  {
   "cell_type": "markdown",
   "metadata": {},
   "source": [
    "# A New \"Transition\"\n",
    "Welcome back! At this point in the course you are all likley aces at numerical analysis, expecially after 5 modules ranging from Diffusion, to Convection, to Conduction, in 1 or 2D, with various Neumann and Dirichlet Boundary conditions! \n",
    "\n",
    "But now it's time for a new \"phase\". In this lesson we begin looking at what happens when your nice rigid boundary conditions decide to start moving on you, essentially creating a moving boundary interface! \n",
    "\n",
    "A moving boundary interface is represented by numerous physical behaviors in real-world applications, from the polar ice caps melting, to the phase transformations of metal alloys, to the varying oxygen content of  muscles near a clotted bloodvessel [2]."
   ]
  },
  {
   "cell_type": "markdown",
   "metadata": {},
   "source": [
    "![Image](Examples1.jpg)\n",
    " #### Real World Applications of a Moving Boundary Interface"
   ]
  },
  {
   "cell_type": "markdown",
   "metadata": {
    "collapsed": true
   },
   "source": [
    "### The Stefan Problem\n",
    "This new type of problem is known as the \"Stefan Problem\" as it was first studied by Slovene physicist Jozef Stefan around 1890 [3]. Though his focus was primarily on the analysis of ice formations, nowadays his name is synonymous with the particular type of boundary value problem for PDEs where the boundary can move with time.  Since the classic Stefan problem concentrated on the temperature distribution of a homogeneous material undergoing a phase transition, one of the most commonly studied Stefan problems today is the melting of Ice to Water!"
   ]
  },
  {
   "cell_type": "markdown",
   "metadata": {
    "collapsed": true
   },
   "source": [
    "![Image](Picture2.jpg)\n",
    " #### Jozef Stefan pioneered work into phase transitions of materials (ie Ice)"
   ]
  },
  {
   "cell_type": "markdown",
   "metadata": {
    "collapsed": true
   },
   "source": [
    "## A Review: 1D Heat Conduction"
   ]
  },
  {
   "cell_type": "markdown",
   "metadata": {},
   "source": [
    "Recall from both Modules 2 and 4 we took a loook at the Diffusion equation in 1D:"
   ]
  },
  {
   "cell_type": "markdown",
   "metadata": {
    "collapsed": true
   },
   "source": [
    "$$\\begin{equation}\n",
    "\\frac{\\partial U}{\\partial t} = \\alpha \\frac{\\partial^2U}{\\partial x^2}\n",
    "\\end{equation}$$"
   ]
  },
  {
   "cell_type": "markdown",
   "metadata": {},
   "source": [
    "Where we have the temperature distribution $U(x,t)$ and the thermal diffusivity $\\alpha$. While before we looked at the conduction of heat through a graphit rod of length 1 meter, in this scenario we will analyze heat condcution though a 1D rod of ice.  Lets first state some basic assumptions and coefficients associated with the simplified Stefan Problem:"
   ]
  },
  {
   "cell_type": "markdown",
   "metadata": {},
   "source": [
    "\n",
    "##### Thermal Properties of Ice at ~$0^{\\circ}C$:\n",
    "Thermal Conductivity: $k = 2.22 \\frac{W}{mK}$\n",
    "\n",
    "Density: $\\rho \\approx 1000 \\frac{kg}{m^3}$\n",
    "\n",
    "Specific Heat: $c_{p}= 2.05x10^{-3} \\frac{J}{kgK}$\n",
    "\n",
    "and lastly, Thermal Diffusivity: $\\alpha = \\frac{k_{ice}}{\\rho_{ice}c_{p_{ice}}} = 1.083x10^{-6} \\frac{m^2}{sec}$\n",
    "\n",
    "Melting Temperature of Ice is: $T_{melt}=0^{\\circ}C$\n"
   ]
  },
  {
   "cell_type": "markdown",
   "metadata": {},
   "source": [
    "Okay! With that out of the way, lets look at the temperature distribution across the a rod of ice of length 1m with some basic initial and boundary conditions. For this first scenario, we will not take into account phase transition if temperatures hit $T_{melt}$, and will therefore assume a static boundary condition."
   ]
  },
  {
   "cell_type": "markdown",
   "metadata": {},
   "source": [
    "##### Problem Setup\n",
    "Governing Equation: $$\\begin{equation}\n",
    "\\frac{\\partial U}{\\partial t} = \\alpha \\frac{\\partial^2U}{\\partial x^2}\n",
    "\\end{equation}$$\n",
    "\n",
    "Boundary Conditions: \n",
    "\n",
    "LHS: $\\frac{\\partial U}{\\partial x} = e^{\\beta t}$,   @x=0, t>0, time-dependant (increasing) heat flux in \n",
    "\n",
    "RHS: $\\frac{\\partial U}{\\partial x} = 0$,  @x=L, t>0,   Insulated end, no heat flux in/out. \n",
    "\n",
    "\n",
    "Initial Conditions:\n",
    "\n",
    "$U(x,t) = -10^{\\circ}C$, for 0<x<L, t=0\n",
    "\n",
    "Lets start coding!!\n"
   ]
  },
  {
   "cell_type": "code",
   "execution_count": 694,
   "metadata": {
    "collapsed": true
   },
   "outputs": [],
   "source": [
    "import numpy\n",
    "from matplotlib import pyplot\n",
    "%matplotlib inline\n",
    "from matplotlib import rcParams\n",
    "rcParams['font.family']= 'serif'\n",
    "rcParams['font.size']=16\n",
    "from IPython.display import Image"
   ]
  },
  {
   "cell_type": "markdown",
   "metadata": {},
   "source": [
    "Now lets define a function to run the governing equations using the Forward-Time/Central-Difference Method discretization"
   ]
  },
  {
   "cell_type": "code",
   "execution_count": 695,
   "metadata": {
    "collapsed": true
   },
   "outputs": [],
   "source": [
    "def FTCS(U, nt, dt, dx, alpha, beta):\n",
    "    \n",
    "    for n in range(nt):\n",
    "        \n",
    "        Un=U.copy()\n",
    "        U[1:-1] = Un[1:-1] + alpha*(dt/dx**2)*(Un[2:]-2*Un[1:-1]+Un[0:-2])\n",
    "        \n",
    "        #Boundary Conditions \n",
    "        \n",
    "        U[-1]=U[-2]                  #RHS Insulated BC\n",
    "        \n",
    "        t=n*dt                                    #Increasing time = n*timestep(dt)\n",
    "        U[0]=numpy.exp(beta*t)-1   #LHS Time dependant heat input in, BC\n",
    "        \n",
    "    return U"
   ]
  },
  {
   "cell_type": "code",
   "execution_count": 696,
   "metadata": {
    "collapsed": false
   },
   "outputs": [],
   "source": [
    "#Basic Parameters and Initialization\n",
    "\n",
    "# Temperature scale: Celsius \n",
    "# Length scale: meters\n",
    "# Mass scale: kg\n",
    "# Time scale: seconds\n",
    "# Energy scale: Joules\n",
    "# Power scale: Watts\n",
    "\n",
    "L = 1                                                         # Length of my ice rod\n",
    "nt = 40000                                                  # Number of timesteps\n",
    "nx = 51                                                     # Number of gird space steps\n",
    "alpha = 1.083e-6                                      # Thermal Diffusivity\n",
    "dx = L/(nx-1)                                           # grid spacing in \"x\" \n",
    "Ui = numpy.ones(nx)*(-10)                    # initialized Temperature array\n",
    "beta = 0.001                                               #Growth Factor of my Temperature input\n",
    "\n",
    "\n",
    "sigma = 1/2                                             # Stability*\n",
    "dt=0.1                                                      # Timestep chosen to be 0.1 seconds*"
   ]
  },
  {
   "cell_type": "markdown",
   "metadata": {},
   "source": [
    "A word on Stability:\n",
    "\n",
    "Recall from module 2 we had the Courant-Friedrichs-Lewy (CFL) Stability condition for the FTCS Diffusion equation in the form:\n",
    "$$\\sigma = \\alpha \\frac{\\Delta t}{\\Delta x^{2}} \\leq \\frac{1}{2} $$\n",
    "\n",
    "re-arranging to determine the upper limit for a time-step (dt) we have:\n",
    "$$\\Delta t \\leq \\frac{\\sigma \\Delta x^{2}}{\\alpha} \\approx 923 seconds$$\n",
    "\n",
    "As you can see, chosing a time-step (dt) equal to $0.1$ seconds, we more than satisfy this CFL Stability condition.\n"
   ]
  },
  {
   "cell_type": "code",
   "execution_count": 697,
   "metadata": {
    "collapsed": false
   },
   "outputs": [
    {
     "name": "stdout",
     "output_type": "stream",
     "text": [
      "Initial ice rod temperature\n"
     ]
    },
    {
     "data": {
      "text/plain": [
       "<matplotlib.text.Text at 0x1c326ba8>"
      ]
     },
     "execution_count": 697,
     "metadata": {},
     "output_type": "execute_result"
    },
    {
     "data": {
      "image/png": "[encoded data removed]",
      "text/plain": [
       "<matplotlib.figure.Figure at 0x1c310b70>"
      ]
     },
     "metadata": {},
     "output_type": "display_data"
    }
   ],
   "source": [
    "x = numpy.linspace(0, 1, nx)\n",
    "print('Initial ice rod temperature')\n",
    "pyplot.plot(x, Ui, color = '#003366', ls = '-', lw =4)\n",
    "pyplot.ylim(-20, 60)\n",
    "pyplot.xlabel('Length of Domain')\n",
    "pyplot.ylabel('Temperature')\n"
   ]
  },
  {
   "cell_type": "code",
   "execution_count": 698,
   "metadata": {
    "collapsed": false
   },
   "outputs": [
    {
     "name": "stdout",
     "output_type": "stream",
     "text": [
      "Total elapsed time is  4000.0 seconds, or 66.66666666666667 minutes\n"
     ]
    },
    {
     "data": {
      "text/plain": [
       "<matplotlib.text.Text at 0x1c38fa58>"
      ]
     },
     "execution_count": 698,
     "metadata": {},
     "output_type": "execute_result"
    },
    {
     "data": {
      "image/png": "[encoded data removed]",
      "text/plain": [
       "<matplotlib.figure.Figure at 0x1c326f98>"
      ]
     },
     "metadata": {},
     "output_type": "display_data"
    }
   ],
   "source": [
    "U = FTCS(Ui.copy(), nt, dt, dx, alpha, beta)\n",
    "print('Total elapsed time is ', nt*dt, 'seconds, or', nt*dt/60, 'minutes' )\n",
    "pyplot.plot(x, U, color = '#003366', ls = '-', lw =3)\n",
    "pyplot.ylim(-20, 60)\n",
    "pyplot.xlim(0, 1)\n",
    "pyplot.xlabel('Length of Domain')\n",
    "pyplot.ylabel('Temperature')"
   ]
  },
  {
   "cell_type": "markdown",
   "metadata": {},
   "source": [
    "The above figure shows us the temperature distribution of the ice rod at a point in time approximately 1 hour into applying our heat source. Now this would be all well and good if ice didn't melt (and therefore change phase) at zero degrees. But it does!! \n",
    "\n",
    "Lets build a rudimentary function to see what portion of the rod should be water by now, and which part should be ice:"
   ]
  },
  {
   "cell_type": "code",
   "execution_count": 699,
   "metadata": {
    "collapsed": false
   },
   "outputs": [],
   "source": [
    "def Phase_graph(U, x, nx):\n",
    "    phase=numpy.ones(nx)*(-100)\n",
    "    for n in range(nx):\n",
    "        if U[n]>0:\n",
    "            phase[n]=100\n",
    "    return phase    "
   ]
  },
  {
   "cell_type": "code",
   "execution_count": 700,
   "metadata": {
    "collapsed": false
   },
   "outputs": [
    {
     "data": {
      "text/plain": [
       "<matplotlib.text.Text at 0x1c354be0>"
      ]
     },
     "execution_count": 700,
     "metadata": {},
     "output_type": "execute_result"
    },
    {
     "data": {
      "image/png": "[encoded data removed]",
      "text/plain": [
       "<matplotlib.figure.Figure at 0x1c387940>"
      ]
     },
     "metadata": {},
     "output_type": "display_data"
    }
   ],
   "source": [
    "pyplot.plot(x, U, color = '#003366')\n",
    "pyplot.ylabel('Temperature', color ='#003366')\n",
    "Phase1=numpy.ones(nx)\n",
    "Phase=Phase_graph(U, x, nx)\n",
    "pyplot.plot(x, Phase, color = '#654321', ls = '-', lw =3)\n",
    "pyplot.ylim(-12, 10)\n",
    "pyplot.xlim(0, 0.3)\n",
    "pyplot.xlabel('Water-Ice Interface', color = '#654321')"
   ]
  },
  {
   "cell_type": "markdown",
   "metadata": {},
   "source": [
    "As you can see, the ice SHOULD have melted about 0.07 meters  (or 2.75 inches) into our rod. In reality, our boundary interface has moved from x=0 to the right as time elapsed.  Not only should our temperature distribution profile change due to the differences in properties ($\\rho, k, c_{p}$), but also the feedback from the moving boundary condition."
   ]
  },
  {
   "cell_type": "markdown",
   "metadata": {
    "collapsed": true
   },
   "source": [
    "## Solutions to the Stefan problem: \n",
    "### The Variable Grid Method"
   ]
  },
  {
   "cell_type": "markdown",
   "metadata": {},
   "source": [
    "Before we continue we need to make some simplfications:\n",
    "##### Simplifying Assumptions:\n",
    "1) No convection, heat transfer is limited to conduction\n",
    "\n",
    "2) Pressure is constant\n",
    "\n",
    "3) Density does not change between the solid and liquid phase (Ice/Water), ie $\\rho_{ice}=\\rho_{water}\\approx 1000 \\frac{kg}{m^3}$\n"
   ]
  },
  {
   "cell_type": "markdown",
   "metadata": {},
   "source": [
    "![Image](Ice 1D Domain.jpg)\n",
    " #### Domain"
   ]
  },
  {
   "cell_type": "markdown",
   "metadata": {},
   "source": [
    "# References"
   ]
  },
  {
   "cell_type": "markdown",
   "metadata": {},
   "source": [
    "1. Kutluay S., The numerical solution of one-phase classical Stefan problem, Journal of Computational and Applied Mathematics 81 (1997) 135-144\n",
    "\n",
    "2. Javierre, E., A Comparison of Numeical Models for one-dimensional Stefan problems, Journal of Compuational and Applied Mathematics 192 (2006) 445-459\n",
    "\n",
    "3. Vuik, C., \"Some historical notes about the Stefan problem\". Nieuw Archief voor Wiskunde, 4e serie 11 (2): 157-167 (1993)\n",
    "\n",
    "4. Crowley, A. B., Numerical Solution of Stefan Problems, Brunel University, Department of Mathematics, TR/69 December 1976"
   ]
  },
  {
   "cell_type": "code",
   "execution_count": 701,
   "metadata": {
    "collapsed": false
   },
   "outputs": [
    {
     "data": {
      "text/html": [
       "<link href='http://fonts.googleapis.com/css?family=Alegreya+Sans:100,300,400,500,700,800,900,100italic,300italic,400italic,500italic,700italic,800italic,900italic' rel='stylesheet' type='text/css'>\n",
       "<link href='http://fonts.googleapis.com/css?family=Arvo:400,700,400italic' rel='stylesheet' type='text/css'>\n",
       "<link href='http://fonts.googleapis.com/css?family=PT+Mono' rel='stylesheet' type='text/css'>\n",
       "<link href='http://fonts.googleapis.com/css?family=Shadows+Into+Light' rel='stylesheet' type='text/css'>\n",
       "<link href='http://fonts.googleapis.com/css?family=Nixie+One' rel='stylesheet' type='text/css'>\n",
       "<style>\n",
       "\n",
       "@font-face {\n",
       "    font-family: \"Computer Modern\";\n",
       "    src: url('http://mirrors.ctan.org/fonts/cm-unicode/fonts/otf/cmunss.otf');\n",
       "}\n",
       "\n",
       "#notebook_panel { /* main background */\n",
       "    background: rgb(245,245,245);\n",
       "}\n",
       "\n",
       "div.cell { /* set cell width */\n",
       "    width: 750px;\n",
       "}\n",
       "\n",
       "div #notebook { /* centre the content */\n",
       "    background: #fff; /* white background for content */\n",
       "    width: 1000px;\n",
       "    margin: auto;\n",
       "    padding-left: 0em;\n",
       "}\n",
       "\n",
       "#notebook li { /* More space between bullet points */\n",
       "    margin-top:0.8em;\n",
       "}\n",
       "\n",
       "/* draw border around running cells */\n",
       "div.cell.border-box-sizing.code_cell.running { \n",
       "    border: 1px solid #111;\n",
       "}\n",
       "\n",
       "/* Put a solid color box around each cell and its output, visually linking them*/\n",
       "div.cell.code_cell {\n",
       "    background-color: rgb(256,256,256); \n",
       "    border-radius: 0px; \n",
       "    padding: 0.5em;\n",
       "    margin-left:1em;\n",
       "    margin-top: 1em;\n",
       "}\n",
       "\n",
       "div.text_cell_render{\n",
       "    font-family: 'Alegreya Sans' sans-serif;\n",
       "    line-height: 140%;\n",
       "    font-size: 125%;\n",
       "    font-weight: 400;\n",
       "    width:600px;\n",
       "    margin-left:auto;\n",
       "    margin-right:auto;\n",
       "}\n",
       "\n",
       "\n",
       "/* Formatting for header cells */\n",
       ".text_cell_render h1 {\n",
       "    font-family: 'Nixie One', serif;\n",
       "    font-style:regular;\n",
       "    font-weight: 400;    \n",
       "    font-size: 45pt;\n",
       "    line-height: 100%;\n",
       "    color: rgb(0,51,102);\n",
       "    margin-bottom: 0.5em;\n",
       "    margin-top: 0.5em;\n",
       "    display: block;\n",
       "}\n",
       "\n",
       ".text_cell_render h2 {\n",
       "    font-family: 'Nixie One', serif;\n",
       "    font-weight: 400;\n",
       "    font-size: 30pt;\n",
       "    line-height: 100%;\n",
       "    color: rgb(0,51,102);\n",
       "    margin-bottom: 0.1em;\n",
       "    margin-top: 0.3em;\n",
       "    display: block;\n",
       "}\t\n",
       "\n",
       ".text_cell_render h3 {\n",
       "    font-family: 'Nixie One', serif;\n",
       "    margin-top:16px;\n",
       "    font-size: 22pt;\n",
       "    font-weight: 600;\n",
       "    margin-bottom: 3px;\n",
       "    font-style: regular;\n",
       "    color: rgb(102,102,0);\n",
       "}\n",
       "\n",
       ".text_cell_render h4 {    /*Use this for captions*/\n",
       "    font-family: 'Nixie One', serif;\n",
       "    font-size: 14pt;\n",
       "    text-align: center;\n",
       "    margin-top: 0em;\n",
       "    margin-bottom: 2em;\n",
       "    font-style: regular;\n",
       "}\n",
       "\n",
       ".text_cell_render h5 {  /*Use this for small titles*/\n",
       "    font-family: 'Nixie One', sans-serif;\n",
       "    font-weight: 400;\n",
       "    font-size: 16pt;\n",
       "    color: rgb(163,0,0);\n",
       "    font-style: italic;\n",
       "    margin-bottom: .1em;\n",
       "    margin-top: 0.8em;\n",
       "    display: block;\n",
       "}\n",
       "\n",
       ".text_cell_render h6 { /*use this for copyright note*/\n",
       "    font-family: 'PT Mono', sans-serif;\n",
       "    font-weight: 300;\n",
       "    font-size: 9pt;\n",
       "    line-height: 100%;\n",
       "    color: grey;\n",
       "    margin-bottom: 1px;\n",
       "    margin-top: 1px;\n",
       "}\n",
       "\n",
       ".CodeMirror{\n",
       "    font-family: \"PT Mono\";\n",
       "    font-size: 90%;\n",
       "}\n",
       "\n",
       "</style>\n",
       "<script>\n",
       "    MathJax.Hub.Config({\n",
       "                        TeX: {\n",
       "                           extensions: [\"AMSmath.js\"],\n",
       "                           equationNumbers: { autoNumber: \"AMS\", useLabelIds: true}\n",
       "                           },\n",
       "                tex2jax: {\n",
       "                    inlineMath: [ ['$','$'], [\"\\\\(\",\"\\\\)\"] ],\n",
       "                    displayMath: [ ['$$','$$'], [\"\\\\[\",\"\\\\]\"] ]\n",
       "                },\n",
       "                displayAlign: 'center', // Change this to 'center' to center equations.\n",
       "                \"HTML-CSS\": {\n",
       "                    styles: {'.MathJax_Display': {\"margin\": 4}}\n",
       "                }\n",
       "        });\n",
       "</script>\n"
      ],
      "text/plain": [
       "<IPython.core.display.HTML object>"
      ]
     },
     "execution_count": 701,
     "metadata": {},
     "output_type": "execute_result"
    }
   ],
   "source": [
    "# Execute this cell to load the notebook's style sheet, then ignore it\n",
    "from IPython.core.display import HTML\n",
    "css_file ='numericalmoocstyle.css'\n",
    "HTML(open(css_file, \"r\").read())"
   ]
  }
 ],
 "metadata": {
  "kernelspec": {
   "display_name": "Python 3",
   "language": "python",
   "name": "python3"
  },
  "language_info": {
   "codemirror_mode": {
    "name": "ipython",
    "version": 3
   },
   "file_extension": ".py",
   "mimetype": "text/x-python",
   "name": "python",
   "nbconvert_exporter": "python",
   "pygments_lexer": "ipython3",
   "version": "3.4.3"
  }
 },
 "nbformat": 4,
 "nbformat_minor": 0
}
