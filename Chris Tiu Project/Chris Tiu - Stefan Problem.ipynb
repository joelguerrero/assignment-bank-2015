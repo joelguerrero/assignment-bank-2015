{
 "cells": [
  {
   "cell_type": "markdown",
   "metadata": {},
   "source": [
    "Copyright statement?"
   ]
  },
  {
   "cell_type": "markdown",
   "metadata": {},
   "source": [
    "# A New 'Transition'\n",
    "Welcome back! At this point in the course you are all likley aces at numerical analysis, expecially after 5 modules ranging from Diffusion, to Convection, to Conduction, in 1 or 2D, with various Neumann and Dirichlet Boundary conditions! \n",
    "\n",
    "But now it's time for a new \"phase\". In this lesson we begin looking at what happens when your nice rigid boundary conditions decide to start moving on you, essentially creating a moving boundary interface! \n",
    "\n",
    "A moving boundary interface is represented by numerous physical behaviors in real-world applications, from the polar ice caps melting, to the phase transformations of metal alloys, to the varying oxygen content of  muscles near a clotted bloodvessel [2]."
   ]
  },
  {
   "cell_type": "markdown",
   "metadata": {},
   "source": [
    "![Image](Examples1.jpg)\n",
    " #### Real World Applications of a Moving Boundary Interface"
   ]
  },
  {
   "cell_type": "markdown",
   "metadata": {
    "collapsed": true
   },
   "source": [
    "### The Stefan Problem\n",
    "This new type of problem is known as the \"Stefan Problem\" as it was first studied by Slovene physicist Jozef Stefan around 1890 [3]. Though his focus was primarily on the analysis of ice formations, nowadays his name is synonymous with the particular type of boundary value problem for PDEs where the boundary can move with time.  Since the classic Stefan problem concentrated on the temperature distribution of a homogeneous material undergoing a phase transition, one of the most commonly studied Stefan problems today is the melting of Ice to Water!"
   ]
  },
  {
   "cell_type": "markdown",
   "metadata": {
    "collapsed": true
   },
   "source": [
    "![Image](Picture2.jpg)\n",
    " #### Jozef Stefan pioneered work into phase transitions of materials (ie Ice)"
   ]
  },
  {
   "cell_type": "markdown",
   "metadata": {
    "collapsed": true
   },
   "source": [
    "## A Review: 1D Heat Conduction"
   ]
  },
  {
   "cell_type": "markdown",
   "metadata": {},
   "source": [
    "Recall from both Modules 2 and 4 we took a loook at the Diffusion equation in 1D:"
   ]
  },
  {
   "cell_type": "markdown",
   "metadata": {
    "collapsed": true
   },
   "source": [
    "$$\\begin{equation}\n",
    "\\frac{\\partial U}{\\partial t} = \\alpha \\frac{\\partial^2U}{\\partial x^2}\n",
    "\\end{equation}$$"
   ]
  },
  {
   "cell_type": "markdown",
   "metadata": {},
   "source": [
    "Where we have the temperature distribution $U(x,t)$ and the thermal diffusivity $\\alpha$. While before we looked at the conduction of heat through a graphite rod of length 1 meter, in this scenario we will analyze heat conduction though a 1D rod of ice.  Let's first list some basic coefficients associated with the simplified Stefan Problem:"
   ]
  },
  {
   "cell_type": "markdown",
   "metadata": {},
   "source": [
    "\n",
    "##### Thermal Properties of Ice at ~$0^{\\circ}C$:\n",
    "Thermal Conductivity: $k = 2.22 \\frac{W}{mK}$\n",
    "\n",
    "Density: $\\rho \\approx 1000 \\frac{kg}{m^3}$\n",
    "\n",
    "Specific Heat: $c_{p}= 2.05x10^{-3} \\frac{J}{kgK}$\n",
    "\n",
    "and lastly, Thermal Diffusivity: $\\alpha = \\frac{k_{ice}}{\\rho_{ice}c_{p_{ice}}} = 1.083x10^{-6} \\frac{m^2}{sec}$\n",
    "\n",
    "Melting Temperature of Ice is: $T_{melt}=0^{\\circ}C$\n"
   ]
  },
  {
   "cell_type": "markdown",
   "metadata": {},
   "source": [
    "Okay! With that out of the way, let's look at the temperature distribution across the a rod of ice of length 1m with some basic initial and boundary conditions. For this first scenario, we will not take into account phase transition if temperatures hit $T_{melt}$, and will therefore assume a static boundary condition."
   ]
  },
  {
   "cell_type": "markdown",
   "metadata": {},
   "source": [
    "##### Problem Setup\n",
    "Governing Equation: $$\\begin{equation}\n",
    "\\frac{\\partial U}{\\partial t} = \\alpha \\frac{\\partial^2U}{\\partial x^2}\n",
    "\\end{equation}$$\n",
    "\n",
    "Boundary Conditions: \n",
    "\n",
    "LHS: $\\frac{\\partial U}{\\partial x} = -e^{\\beta t}$,   @x=0, t>0, time-dependant (increasing) heat flux in \n",
    "\n",
    "RHS: $\\frac{\\partial U}{\\partial x} = 0$,  @x=L, t>0,   Insulated end, no heat flux in/out. \n",
    "\n",
    "\n",
    "Initial Conditions:\n",
    "\n",
    "$U(x,t) = -10^{\\circ}C$, for 0<x<L, t=0\n",
    "\n",
    "Lets start coding!!\n"
   ]
  },
  {
   "cell_type": "code",
   "execution_count": 60,
   "metadata": {
    "collapsed": true
   },
   "outputs": [],
   "source": [
    "import numpy\n",
    "from matplotlib import pyplot\n",
    "%matplotlib inline\n",
    "from matplotlib import rcParams\n",
    "rcParams['font.family']= 'serif'\n",
    "rcParams['font.size']=16\n",
    "from IPython.display import Image"
   ]
  },
  {
   "cell_type": "markdown",
   "metadata": {},
   "source": [
    "Now let's define a function to run the governing equations using the Forward-Time/Central-Difference Method discretization"
   ]
  },
  {
   "cell_type": "code",
   "execution_count": 61,
   "metadata": {
    "collapsed": true
   },
   "outputs": [],
   "source": [
    "def FTCS(U, nt, dt, dx, alpha, beta):\n",
    "    \n",
    "    for n in range(nt):\n",
    "        \n",
    "        Un=U.copy()\n",
    "        U[1:-1] = Un[1:-1] + alpha*(dt/dx**2)*(Un[2:]-2*Un[1:-1]+Un[0:-2])\n",
    "        \n",
    "        #Boundary Conditions \n",
    "        \n",
    "        U[-1]=U[-2]                  #RHS Insulated BC\n",
    "        \n",
    "        t=n*dt                                    #Increasing time = n*timestep(dt)\n",
    "        U[0]=numpy.exp(beta*t)     #LHS Time dependant heat input in, BC\n",
    "        \n",
    "    return U"
   ]
  },
  {
   "cell_type": "code",
   "execution_count": 62,
   "metadata": {
    "collapsed": false
   },
   "outputs": [],
   "source": [
    "#Basic Parameters and Initialization\n",
    "\n",
    "# Temperature scale: Celsius \n",
    "# Length scale: meters\n",
    "# Mass scale: kg\n",
    "# Time scale: seconds\n",
    "# Energy scale: Joules\n",
    "# Power scale: Watts\n",
    "\n",
    "L = 1                                                         # Length of my ice rod\n",
    "nt = 40000                                                  # Number of timesteps\n",
    "nx = 51                                                     # Number of gird space steps\n",
    "alpha = 1.083e-6                                   # Thermal Diffusivity\n",
    "dx = L/(nx-1)                                           # grid spacing in \"x\" \n",
    "Ui = numpy.ones(nx)*(-10)                    # initialized Temperature array\n",
    "beta = 0.001                                               #Growth Factor of my Temperature input\n",
    "\n",
    "sigma = 1/2                                             # Stability*\n",
    "dt=0.1                                                      # Timestep chosen to be 0.1 seconds*"
   ]
  },
  {
   "cell_type": "markdown",
   "metadata": {},
   "source": [
    "A word on Stability:\n",
    "\n",
    "Recall from module 2 we had the Courant-Friedrichs-Lewy (CFL) Stability condition for the FTCS Diffusion equation in the form:\n",
    "$$\\sigma = \\alpha \\frac{\\Delta t}{\\Delta x^{2}} \\leq \\frac{1}{2} $$\n",
    "\n",
    "re-arranging to determine the upper limit for a time-step (dt) we have:\n",
    "$$\\Delta t \\leq \\frac{\\sigma \\Delta x^{2}}{\\alpha} \\approx 923 seconds$$\n",
    "\n",
    "As you can see, chosing a time-step (dt) equal to $0.1$ seconds, we more than satisfy this CFL Stability condition.\n"
   ]
  },
  {
   "cell_type": "code",
   "execution_count": 63,
   "metadata": {
    "collapsed": false
   },
   "outputs": [
    {
     "name": "stdout",
     "output_type": "stream",
     "text": [
      "Initial ice rod temperature\n"
     ]
    },
    {
     "data": {
      "text/plain": [
       "<matplotlib.text.Text at 0x93a0ac8>"
      ]
     },
     "execution_count": 63,
     "metadata": {},
     "output_type": "execute_result"
    },
    {
     "data": {
      "image/png": "[encoded data removed]",
      "text/plain": [
       "<matplotlib.figure.Figure at 0x91fcd30>"
      ]
     },
     "metadata": {},
     "output_type": "display_data"
    }
   ],
   "source": [
    "x = numpy.linspace(0, 1, nx)\n",
    "print('Initial ice rod temperature')\n",
    "pyplot.plot(x, Ui, color = '#003366', ls = '-', lw =4)\n",
    "pyplot.ylim(-20, 60)\n",
    "pyplot.xlabel('Length of Domain')\n",
    "pyplot.ylabel('Temperature')\n"
   ]
  },
  {
   "cell_type": "code",
   "execution_count": 64,
   "metadata": {
    "collapsed": false
   },
   "outputs": [
    {
     "name": "stdout",
     "output_type": "stream",
     "text": [
      "Total elapsed time is  4000.0 seconds, or 66.66666666666667 minutes\n"
     ]
    },
    {
     "data": {
      "text/plain": [
       "<matplotlib.text.Text at 0x94bd3c8>"
      ]
     },
     "execution_count": 64,
     "metadata": {},
     "output_type": "execute_result"
    },
    {
     "data": {
      "image/png": "[encoded data removed]",
      "text/plain": [
       "<matplotlib.figure.Figure at 0x9465128>"
      ]
     },
     "metadata": {},
     "output_type": "display_data"
    }
   ],
   "source": [
    "U = FTCS(Ui.copy(), nt, dt, dx, alpha, beta)\n",
    "print('Total elapsed time is ', nt*dt, 'seconds, or', nt*dt/60, 'minutes' )\n",
    "pyplot.plot(x, U, color = '#003366', ls = '-', lw =3)\n",
    "pyplot.ylim(-20, 60)\n",
    "pyplot.xlim(0, 1)\n",
    "pyplot.xlabel('Length of Domain')\n",
    "pyplot.ylabel('Temperature')"
   ]
  },
  {
   "cell_type": "markdown",
   "metadata": {},
   "source": [
    "The above figure shows us the temperature distribution of the ice rod at a point in time approximately 1 hour into applying our heat source. Now this would be all well and good if ice didn't melt (and therefore change phase) at zero degrees. But it does!! \n",
    "\n",
    "Let's build a rudimentary function to see what portion of the rod should be water by now, and which part should still be ice:"
   ]
  },
  {
   "cell_type": "code",
   "execution_count": 65,
   "metadata": {
    "collapsed": false
   },
   "outputs": [],
   "source": [
    "def Phase_graph(U, x, nx):\n",
    "    phase=numpy.ones(nx)*(-100)\n",
    "    for n in range(nx):\n",
    "        if U[n]>0:\n",
    "            phase[n]=100\n",
    "    return phase    "
   ]
  },
  {
   "cell_type": "code",
   "execution_count": 66,
   "metadata": {
    "collapsed": false
   },
   "outputs": [
    {
     "data": {
      "text/plain": [
       "<matplotlib.text.Text at 0x9447a90>"
      ]
     },
     "execution_count": 66,
     "metadata": {},
     "output_type": "execute_result"
    },
    {
     "data": {
      "image/png": "[encoded data removed]",
      "text/plain": [
       "<matplotlib.figure.Figure at 0x94cb668>"
      ]
     },
     "metadata": {},
     "output_type": "display_data"
    }
   ],
   "source": [
    "pyplot.plot(x, U, color = '#003366')\n",
    "pyplot.ylabel('Temperature', color ='#003366')\n",
    "Phase1=numpy.ones(nx)\n",
    "Phase=Phase_graph(U, x, nx)\n",
    "pyplot.plot(x, Phase, color = '#654321', ls = '-', lw =3)\n",
    "pyplot.ylim(-12, 10)\n",
    "pyplot.xlim(0, 0.3)\n",
    "pyplot.xlabel('Approx Water-Ice Interface', color = '#654321')"
   ]
  },
  {
   "cell_type": "markdown",
   "metadata": {},
   "source": [
    "As you can see, the ice SHOULD have melted about 0.07 meters  (or 2.75 inches) into our rod. In reality, our boundary interface has moved from x=0 to the right as time elapsed.  Not only should our temperature distribution profile change due to the differences in properties ($\\rho, k, c_{p}$), but also the feedback from the moving boundary condition."
   ]
  },
  {
   "cell_type": "markdown",
   "metadata": {
    "collapsed": true
   },
   "source": [
    "## Solutions to the Stefan problem:\n",
    "### Analytical Solution:"
   ]
  },
  {
   "cell_type": "markdown",
   "metadata": {},
   "source": [
    "Before we continue we need to make some simplfications:\n",
    "\n",
    "1) No convection, heat transfer is limited to conduction,\n",
    "\n",
    "2) Pressure is constant,\n",
    "\n",
    "3) Density does not change between the solid and liquid phase (Ice/Water), ie $\\rho_{ice}=\\rho_{water}\\approx 1000 \\frac{kg}{m^3}$,\n",
    "\n",
    "4) The phase change interface at $s(t)$ has no thickness \n"
   ]
  },
  {
   "cell_type": "markdown",
   "metadata": {},
   "source": [
    "Looking closer at the problem at hand, we see that our temperature distribution must conform to the below figure:"
   ]
  },
  {
   "cell_type": "markdown",
   "metadata": {},
   "source": [
    "![Image](Picture3.jpg)\n",
    " #### Phase Change Domain"
   ]
  },
  {
   "cell_type": "markdown",
   "metadata": {},
   "source": [
    "  As you can see, our temperature distribution experiences a discontinuity at our solid-liquid interface at x=s(t). Furthermore, this boundary moves to the right as time elapses. If we wish to analyze the distribution in one region or the other, we need to take into account a growing or shrinking domain, and therefore, the boundary of the domain has to be found as part of the solution [2].  In the Melting Problem depicted above, a moving interface separates the liquid and solid phases. The displacement of the boundary interface (denoted as $\\dot{s}$) is driven by the heat transport through it [2]. The relationship  between the moving interface, s(t), and the temperature distribution through it was developed by and is known as the Stefan Condition (or Stefan Equation) and takes the form of the following boundary conditions:\n",
    "\n",
    "when x =s(t),\n",
    "######  [1, 3, 2]\n",
    "$$\\dot{s} = \\frac{ds}{dt} = -\\frac{\\partial U}{\\partial x}$$  \n",
    "$$U=0$$"
   ]
  },
  {
   "cell_type": "markdown",
   "metadata": {},
   "source": [
    "There are many solution methods for the Stefan problem, for this lesson we will focus on finding the temperature distribution in the liquid region only (ie 0<x<s(t)). Critical parameters to track are both temperature, U(x,t), and the position of the interface, s(t). Let's first solve this problem analytically:"
   ]
  },
  {
   "cell_type": "markdown",
   "metadata": {
    "collapsed": true
   },
   "source": [
    "To make our lives easier we want a simplified version of the Stefan Problem, In his paper, Crowley [4] presented that both Oleinik and Jerome demonstrated how using an appropriate dimensionless model, and appropriate boundary conditions, and initial conditions, not only could one determine a general solution for the diffusion equation with the Stefan condition, but also that an explicit finite difference scheme converges to this solution [4]. For our dimensionless model we will set $\\alpha=1, \\beta=1$ to get the following governing equations, and boundary conditions:"
   ]
  },
  {
   "cell_type": "markdown",
   "metadata": {
    "collapsed": true
   },
   "source": [
    "#### Dimensionless Stefan Problem Equations"
   ]
  },
  {
   "cell_type": "markdown",
   "metadata": {},
   "source": [
    "$$\\frac{\\partial U}{\\partial t} = \\frac{\\partial^{2} U}{\\partial x^{2}}$$\n",
    "\n",
    "$$s(t)$$\n",
    "\n",
    "(1) $\\frac{\\partial U(x=0, t)}{\\partial x} = -e^{t}$, LHS BC (Heat input into the system)\n",
    "\n",
    "(2) $\\frac{\\partial U(x=s(t), t)}{\\partial x} = -\\frac{d s(t)}{d t}$, RHS BC, Stefan Condition\n",
    "\n",
    "(3) $U(x=s(t), t) = T_{melt}=0$, By definition of the Melting interface\n",
    "\n",
    "(4) s(t=0)=0, initial condition\n",
    "\n",
    "These equations set up the new below figure:\n",
    "![Image](Picture4.jpg)"
   ]
  },
  {
   "cell_type": "markdown",
   "metadata": {},
   "source": [
    "Because we want to be able to judge the accuracy of our numerical analysis (and thanks to Crowley, Oleinik, and Jerome!) we next find the general solution of this problem by means of Separation of Variables:\n",
    "\n",
    "SOV: $U(x,t)=X(x)T(t)$, gives us a general solution of the form:\n",
    "\n",
    "$$U(x,t) = c_{1}e^{c_{2}^{2}t-c_{2}x} +c_{3}$$\n",
    "\n",
    "from BC(1) we get $c_{2}=1, c_{1}=1, yielding: U(x,t) = e^{t-x} +c_{3}$\n",
    "\n",
    "from BC(2) we get:  $\\dot{s}=\\frac{\\partial s(t)}{\\partial t} = -\\frac{\\partial U(x=s(t), t)}{\\partial x}\\rightarrow -e^{t-s(t)}= \\frac{ds(t)}{d t}$, this yields that the only solution fo s(t) is: $$s(t)=t,  (therefore,   \\dot{s}=1)$$\n",
    "\n",
    "from BC(3) we get: $U(s(t),t) + c_{3} = 0, \\rightarrow e^{t-t} +c_{3}=0, \\rightarrow c_{3}=-1$, \n",
    "\n",
    "Finally we get an exact solution for the temperature distribution:\n",
    "\n",
    "$$U(x,t) = e^{t-x}-1$$,    $$s(t) = t$$\n",
    "\n",
    "and this satisfies the initial condition IC(4) that s(t=0)=0!!\n",
    "\n",
    "And now you see why we chose the heat input function to be a time-dependant exponential, if you don't believe me that the analytical solution would be much nastier if you had chosesn say, a constant heat input, give SOV a try and let me know how it goes! Let's graph this solution and see if it makes sense."
   ]
  },
  {
   "cell_type": "code",
   "execution_count": 67,
   "metadata": {
    "collapsed": true
   },
   "outputs": [],
   "source": [
    "def Exact_Stefan( nt, dt, x):\n",
    "    U=numpy.ones(nx)\n",
    "    for n in range(nt):\n",
    "        U = numpy.exp(n*dt-x)-1\n",
    "    return U"
   ]
  },
  {
   "cell_type": "code",
   "execution_count": 68,
   "metadata": {
    "collapsed": false
   },
   "outputs": [
    {
     "data": {
      "text/plain": [
       "<matplotlib.text.Text at 0x95622b0>"
      ]
     },
     "execution_count": 68,
     "metadata": {},
     "output_type": "execute_result"
    },
    {
     "data": {
      "image/png": "[encoded data removed]",
      "text/plain": [
       "<matplotlib.figure.Figure at 0x8ff8710>"
      ]
     },
     "metadata": {},
     "output_type": "display_data"
    }
   ],
   "source": [
    "ExactS=Exact_Stefan(10, dt, x)\n",
    "pyplot.plot(x, ExactS, color = '#003366', ls = '-', lw =3)\n",
    "pyplot.xlabel('Length of Domain')\n",
    "pyplot.ylabel('Temperature')"
   ]
  },
  {
   "cell_type": "markdown",
   "metadata": {},
   "source": [
    "Does the solution look right? YES! Remember, this temperature profile is \"Dimensionless\" so we can't compare it to our previous example. Also it accounts ONLY for the temperature distribution in the liquid, assuming an ever increasing domain due to an ever expanding RHS boundary. Not only did we expect temperature to be highest at the input side, but our moving boundary interface, s(t), moves to the right with time, just as one would expect."
   ]
  },
  {
   "cell_type": "markdown",
   "metadata": {},
   "source": [
    "### Numerical Solution: The Variable Grid Method"
   ]
  },
  {
   "cell_type": "markdown",
   "metadata": {},
   "source": [
    "What makes this problem unique is that we must now track the time-dependant moving boundary. Now, for previous numerical analysis in a 1D domain, you had a constant number of spacial intervals nx (or N) between your two boundaries x=0, and x=L. Thus your spatial grid steps dx were constant and defined as $dx = L/(nx-1)$. But now you have one fixed bounary and one moving boundary, and your domain increases as time passes. [1] \n",
    "\n",
    "![Image](Fixed Grid.jpg)\n",
    "\n",
    "\n"
   ]
  },
  {
   "cell_type": "markdown",
   "metadata": {
    "collapsed": true
   },
   "source": [
    "\n",
    "One of the key tenements of the Variable Grid Method for solving the Stefan probem is that you keep the NUMBER of grid points (nx) fixed, thus your grid SIZE (dx) will increase as the domain increases. Your grid size now varies dependant on the location of the interaface front, dx = s(t)/N.\n",
    "\n",
    "$$dx = \\frac{L}{N-1}     \\longrightarrow      dx = \\frac{s(t)}{N}$$\n",
    "\n",
    "![Image](Variable Grid 1.jpg)\n",
    "\n",
    "Now, while one might be tempted to view the figure above as the new \"Variable Grid\" stencil, one must remember that the \"Y\"-axis is time, and therefore as you move up you are moving forward in time, therefore a more accurate depiction of the FTCS method in stencil form for the Variable Grid method would be: \n",
    "\n",
    "![Image](Variable Grid 2.jpg)\n",
    "\n",
    "and so it becomes clear - that the our spacial step ($dx$) will be depentant on our time step ($m$)!!"
   ]
  },
  {
   "cell_type": "markdown",
   "metadata": {},
   "source": [
    "####  Deriviation of the new Governing Equation"
   ]
  },
  {
   "cell_type": "markdown",
   "metadata": {
    "collapsed": true
   },
   "source": [
    "   Now lets set up the new governing equations to be discretized for our code. We know that the 1D Diffusion equation must be valid for all points on our spatial grid so we can re-write the LHS of equation:\n",
    "   $$\\frac{\\partial U}{\\partial t} = \\frac{\\partial^{2} U}{\\partial x^{2}}$$\n",
    "   to be $$ \\frac{\\partial U_{i}}{\\partial t} = \\frac{\\partial U_{@t}}{\\partial x}\\frac{dx_{i}}{dt} + \\frac{\\partial U_{@x}}{\\partial t}$$\n",
    "   \n",
    "  we can use the expression: $$\\frac{dx_{i}}{dt} = \\frac{x_{i}}{s(t)}\\frac{ds}{dt}$$   to track the movement of the node $i$.\n",
    "  \n",
    "  Substituting these into the diffusion equation (and droping the i,t, and x indices since they are constant) we obtain a new governing equation for diffusion: \n",
    "  \n",
    "  $$\\frac{\\partial U}{\\partial t} = \\frac{x_{i}}{s}\\frac{ds}{dt}\\frac{\\partial U}{\\partial x} + \\frac{\\partial^{2}U}{\\partial x^{2}}$$ \n",
    "  \n",
    "  This is subject to the boundary and initial conditions (BC1-BC3, IC4) as stated for the 1D dimensionles Stefan problem above."
   ]
  },
  {
   "cell_type": "markdown",
   "metadata": {
    "collapsed": true
   },
   "source": [
    "#### Discretization \n",
    "\n",
    "and now we seek to discretize the new governing equations. For this code we will implement an explicit, FTCS scheme, with parameters taking a Taylor expansion centered about the node ($x_{i}^{m}$), and time ($t_{m}$) just like before. In the above equations we discritized the time derivatives of U using forward time, and the spatial derivitaives using centered space. We re-write ds/dt as $\\dot{s}$ and leave it a variable for now. (EXERCISE: See if you can discretize this equation form memory!!) \n"
   ]
  },
  {
   "cell_type": "markdown",
   "metadata": {
    "collapsed": true
   },
   "source": [
    "Taylor Expand and Discretize: (moving from left to right)\n",
    "\n",
    "$\\frac{\\partial U}{\\partial t} \\longrightarrow  \\frac{U_{i}^{m+1}-U_{i}^{m}}{\\Delta t}$,\n",
    "\n",
    "$\\frac{x_{i}}{s}  \\longrightarrow  \\frac{x_{i}^{m}}{s_{m}}$,\n",
    "\n",
    "$\\frac{ds}{dt} \\longrightarrow \\dot{s_{m}}$,\n",
    "\n",
    "$\\frac{\\partial U }{\\partial x} \\longrightarrow \\frac{U_{i+1}^{m}-U_{i-1}^{m}}{2\\Delta x^{m}}$,\n",
    "\n",
    "$\\frac{\\partial^{2}U}{\\partial x^{2}} \\longrightarrow \\frac{U_{i+1}^{m}-2U_{i}^{m}+U_{i-1}^{m}}{(\\Delta x^{m})^{2}}$\n",
    "\n",
    "And now we substitute, rearrange and solve for $U_{i}^{m+1}$ to get:\n",
    "\n",
    "$U_{i}^{m+1}=U_{i}^{m}+\\frac{\\Delta t x_{i}^{m} \\dot{s_{m}}}{2 \\Delta x^{m}s_{m}}(U_{i+1}^{m}-U_{i-1}^{m}) + \\frac{\\Delta t}{(\\Delta x^{m})^{2}}(U_{i+1}^{m}-2U_{i}^{m}+U_{i-1}^{m})$\n",
    "\n"
   ]
  },
  {
   "cell_type": "markdown",
   "metadata": {},
   "source": [
    "Great!! We're almost ready to start coding, but before we begin, do you notice a problem with this expression? What about if i=0? Plug it in and you will see that we have expressions of the form $U_{-1}^{m}$ in both right hand terms, but that can't be right, looking at our stencil we see that $i=-1$ is off our grid! This is where the boundary conditions come in!"
   ]
  },
  {
   "cell_type": "markdown",
   "metadata": {},
   "source": [
    "Generate discretization expressions for the boundary conditions at x=0 (LHS) and x=s(t) (RHS). For the RHS and the temperature gradient across the moving boundary interface we will use a  three-term backward difference scheme:\n",
    "\n",
    "LHS:  $\\frac{\\partial U(x=0, t)}{\\partial x} = -e^{t} \\longrightarrow    \\frac{U_{i+1}^{m}(0,t)-U_{i-1}^{m}(0,t)}{2\\Delta x^{m}} = e^{t_{m}}$, and\n",
    "\n",
    "RHS: $\\frac{\\partial U(x=s(t), t)}{\\partial x} = -\\frac{d s(t)}{d t} \\longrightarrow \\frac{\\partial U(x=s(t),t)}{\\partial x} = \\frac{3U_{N}^{m}-4U_{N-1}^{m}+U_{N-2}^{m}}{2\\Delta x^{m}}  $\n",
    "\n",
    "from our LHS boundary conditio expression, if we set $i=0$ and solve for $U_{-1}^{m}$ we get: $U_{-1}^{m}=U_{1}^{m} + 2\\Delta x^{m} e^{t_{m}}$"
   ]
  },
  {
   "cell_type": "markdown",
   "metadata": {},
   "source": [
    "We can now combine this expression and substitute into the governing equation to get expressions for diffusion at  $i=0, i=1$ to $(N-1)$, and $i=N$:\n",
    "\n",
    "\n",
    "$U_{i}^{m+1}=(1-2\\frac{\\Delta t}{(\\Delta x^{m})^{2}})U_{i}^{m} + 2\\frac{\\Delta t}{(\\Delta x^{m})^{2}}U_{i+1}^{m} + (2\\frac{\\Delta t}{\\Delta x^{m}}-\\frac{\\Delta t x_{i}^{m}\\dot{s_{m}}}{s_{m}})e^{t_{m}}$\n",
    "\n",
    "\n",
    "$U_{i}^{m+1}=U_{i}^{m}+\\frac{\\Delta t x_{i}^{m} \\dot{s_{m}}}{2 \\Delta x^{m}s_{m}}(U_{i+1}^{m}-U_{i-1}^{m}) + \\frac{\\Delta t}{(\\Delta x^{m})^{2}}(U_{i+1}^{m}-2U_{i}^{m}+U_{i-1}^{m})$\n",
    "\n",
    "$U_{i}^{m}=0$, $i=N$"
   ]
  },
  {
   "cell_type": "markdown",
   "metadata": {
    "collapsed": true
   },
   "source": [
    "Phew!! Now that is one impressive looking set of discretization expressions. But, sorry, we aren't done yet..... In the above expressions what are we supposed to do about $\\dot{s_{m}}$ and $s_{m}$? \n",
    "\n",
    "Well luckily, that is where the Stefan condition comes in, remember:\n",
    "\n",
    "$\\dot{s_{m}} = \\frac{ds}{dt}= -\\frac{\\partial U_{@x=s}}{\\partial x} = -\\frac{3U_{N}^{m}-4U_{N-1}^{m}+U_{N-2}^{m}}{2\\Delta x^{m}} $, and as for $s_{m}$ that is just a Heat Balance equation:\n",
    "\n",
    "$s_{m+1} = s_{m}+\\dot{s_{m}}\\Delta t = s_{m} - \\frac{\\Delta t}{2\\Delta x^{m}}(3U_{N}^{m}-4U_{N-1}^{m}+U_{N-2}^{m})$, where $s_{0}=0$\n",
    "\n",
    "To make our lives easier, instead of inserting these expressions for $\\dot{s_{m}}$ and $s_{m}$ into our governing equations, lets keep them as coupled expressions and define them as functions to be called during the time loops and calculated at every grid point $i$.\n",
    "\n",
    "lastly, lets not forget that the updated interface location $s_{m+1}$ and grid size $\\Delta x^{m}$ are calculated at every timestep $m$, and have the relationship: \n",
    "\n",
    "$$\\Delta x^{m} = \\frac{s_{m+1}}{N}$$\n",
    "\n",
    "Don't worry, we are almost ready to code, I promise! There is just one more expression we need to ensure success, and that relates to Stability! For concenience, we will use the Von Neumann method for the limit on the size of the timestep ($\\Delta t$), that is: $$\\Delta t \\leq \\frac{2\\Delta x^{2}}{4 + (\\Delta x^{m}\\dot{s_{m}})^{2}}$$"
   ]
  },
  {
   "cell_type": "markdown",
   "metadata": {},
   "source": [
    "## Let's Code!!"
   ]
  },
  {
   "cell_type": "markdown",
   "metadata": {},
   "source": [
    "To summarize our governing equations we need to code these 7 coupled equations:\n",
    "\n",
    "(A) $u_{i}^{m+1}=(1-2\\frac{\\Delta t}{(\\Delta x^{m})^{2}})u_{i}^{m} + 2\\frac{\\Delta t}{(\\Delta x^{m})^{2}}u_{i+1}^{m} + (2\\frac{\\Delta t}{\\Delta x^{m}}-\\frac{\\Delta t x_{i}^{m}\\dot{s_{m}}}{s_{m}})e^{t_{m}}$\n",
    "\n",
    "\n",
    "(B) $u_{i}^{m+1}=u_{i}^{m}+\\frac{\\Delta t x_{i}^{m} \\dot{s_{m}}}{2 \\Delta x^{m}s_{m}}(u_{i+1}^{m}-u_{i-1}^{m}) + \\frac{\\Delta t}{(\\Delta x^{m})^{2}}(u_{i+1}^{m}-2u_{i}^{m}+u_{i-1}^{m})$\n",
    "\n",
    "(C) $u_{i}^{m}=0$, $i=N$\n",
    "\n",
    "(D) $\\dot{s_{m}} = \\frac{ds}{dt}= -\\frac{\\partial u_{@x=s}}{\\partial x} = -\\frac{3u_{N}^{m}-4u_{N-1}^{m}+u_{N-2}^{m}}{2\\Delta x^{m}} $\n",
    "\n",
    "(E) $s_{m+1} = s_{m}+\\dot{s_{m}}\\Delta t = s_{m} - \\frac{\\Delta t}{2\\Delta x^{m}}(3u_{N}^{m}-4u_{N-1}^{m}+u_{N-2}^{m}), s_{0}=0$\n",
    "\n",
    "(F) $\\Delta x^{m} = \\frac{s_{m+1}}{N}$\n",
    "\n",
    "(G) $\\Delta t \\leq \\frac{2\\Delta x^{2}}{4 + (\\Delta x^{m}\\dot{s_{m}})^{2}}$"
   ]
  },
  {
   "cell_type": "code",
   "execution_count": null,
   "metadata": {
    "collapsed": true
   },
   "outputs": [],
   "source": []
  },
  {
   "cell_type": "code",
   "execution_count": null,
   "metadata": {
    "collapsed": true
   },
   "outputs": [],
   "source": []
  },
  {
   "cell_type": "code",
   "execution_count": null,
   "metadata": {
    "collapsed": true
   },
   "outputs": [],
   "source": []
  },
  {
   "cell_type": "code",
   "execution_count": null,
   "metadata": {
    "collapsed": true
   },
   "outputs": [],
   "source": []
  },
  {
   "cell_type": "code",
   "execution_count": null,
   "metadata": {
    "collapsed": true
   },
   "outputs": [],
   "source": []
  },
  {
   "cell_type": "markdown",
   "metadata": {},
   "source": [
    "# References"
   ]
  },
  {
   "cell_type": "markdown",
   "metadata": {},
   "source": [
    "1. Kutluay S., The numerical solution of one-phase classical Stefan problem, Journal of Computational and Applied Mathematics 81 (1997) 135-144\n",
    "\n",
    "2. Javierre, E., A Comparison of Numeical Models for one-dimensional Stefan problems, Journal of Compuational and Applied Mathematics 192 (2006) 445-459\n",
    "\n",
    "3. Vuik, C., \"Some historical notes about the Stefan problem\". Nieuw Archief voor Wiskunde, 4e serie 11 (2): 157-167 (1993)\n",
    "\n",
    "4. Crowley, A. B., Numerical Solution of Stefan Problems, Brunel University, Department of Mathematics, TR/69 December 1976"
   ]
  },
  {
   "cell_type": "code",
   "execution_count": 72,
   "metadata": {
    "collapsed": false
   },
   "outputs": [
    {
     "data": {
      "text/html": [
       "<link href='http://fonts.googleapis.com/css?family=Alegreya+Sans:100,300,400,500,700,800,900,100italic,300italic,400italic,500italic,700italic,800italic,900italic' rel='stylesheet' type='text/css'>\n",
       "<link href='http://fonts.googleapis.com/css?family=Arvo:400,700,400italic' rel='stylesheet' type='text/css'>\n",
       "<link href='http://fonts.googleapis.com/css?family=PT+Mono' rel='stylesheet' type='text/css'>\n",
       "<link href='http://fonts.googleapis.com/css?family=Shadows+Into+Light' rel='stylesheet' type='text/css'>\n",
       "<link href='http://fonts.googleapis.com/css?family=Nixie+One' rel='stylesheet' type='text/css'>\n",
       "<style>\n",
       "\n",
       "@font-face {\n",
       "    font-family: \"Computer Modern\";\n",
       "    src: url('http://mirrors.ctan.org/fonts/cm-unicode/fonts/otf/cmunss.otf');\n",
       "}\n",
       "\n",
       "#notebook_panel { /* main background */\n",
       "    background: rgb(245,245,245);\n",
       "}\n",
       "\n",
       "div.cell { /* set cell width */\n",
       "    width: 750px;\n",
       "}\n",
       "\n",
       "div #notebook { /* centre the content */\n",
       "    background: #fff; /* white background for content */\n",
       "    width: 1000px;\n",
       "    margin: auto;\n",
       "    padding-left: 0em;\n",
       "}\n",
       "\n",
       "#notebook li { /* More space between bullet points */\n",
       "    margin-top:0.8em;\n",
       "}\n",
       "\n",
       "/* draw border around running cells */\n",
       "div.cell.border-box-sizing.code_cell.running { \n",
       "    border: 1px solid #111;\n",
       "}\n",
       "\n",
       "/* Put a solid color box around each cell and its output, visually linking them*/\n",
       "div.cell.code_cell {\n",
       "    background-color: rgb(256,256,256); \n",
       "    border-radius: 0px; \n",
       "    padding: 0.5em;\n",
       "    margin-left:1em;\n",
       "    margin-top: 1em;\n",
       "}\n",
       "\n",
       "div.text_cell_render{\n",
       "    font-family: 'Alegreya Sans' sans-serif;\n",
       "    line-height: 140%;\n",
       "    font-size: 125%;\n",
       "    font-weight: 400;\n",
       "    width:600px;\n",
       "    margin-left:auto;\n",
       "    margin-right:auto;\n",
       "}\n",
       "\n",
       "\n",
       "/* Formatting for header cells */\n",
       ".text_cell_render h1 {\n",
       "    font-family: 'Nixie One', serif;\n",
       "    font-style:regular;\n",
       "    font-weight: 400;    \n",
       "    font-size: 45pt;\n",
       "    line-height: 100%;\n",
       "    color: rgb(0,51,102);\n",
       "    margin-bottom: 0.5em;\n",
       "    margin-top: 0.5em;\n",
       "    display: block;\n",
       "}\n",
       "\n",
       ".text_cell_render h2 {\n",
       "    font-family: 'Nixie One', serif;\n",
       "    font-weight: 400;\n",
       "    font-size: 30pt;\n",
       "    line-height: 100%;\n",
       "    color: rgb(0,51,102);\n",
       "    margin-bottom: 0.1em;\n",
       "    margin-top: 0.3em;\n",
       "    display: block;\n",
       "}\t\n",
       "\n",
       ".text_cell_render h3 {\n",
       "    font-family: 'Nixie One', serif;\n",
       "    margin-top:16px;\n",
       "    font-size: 22pt;\n",
       "    font-weight: 600;\n",
       "    margin-bottom: 3px;\n",
       "    font-style: regular;\n",
       "    color: rgb(102,102,0);\n",
       "}\n",
       "\n",
       ".text_cell_render h4 {    /*Use this for captions*/\n",
       "    font-family: 'Nixie One', serif;\n",
       "    font-size: 14pt;\n",
       "    text-align: center;\n",
       "    margin-top: 0em;\n",
       "    margin-bottom: 2em;\n",
       "    font-style: regular;\n",
       "}\n",
       "\n",
       ".text_cell_render h5 {  /*Use this for small titles*/\n",
       "    font-family: 'Nixie One', sans-serif;\n",
       "    font-weight: 400;\n",
       "    font-size: 16pt;\n",
       "    color: rgb(163,0,0);\n",
       "    font-style: italic;\n",
       "    margin-bottom: .1em;\n",
       "    margin-top: 0.8em;\n",
       "    display: block;\n",
       "}\n",
       "\n",
       ".text_cell_render h6 { /*use this for copyright note*/\n",
       "    font-family: 'PT Mono', sans-serif;\n",
       "    font-weight: 300;\n",
       "    font-size: 9pt;\n",
       "    line-height: 100%;\n",
       "    color: grey;\n",
       "    margin-bottom: 1px;\n",
       "    margin-top: 1px;\n",
       "}\n",
       "\n",
       ".CodeMirror{\n",
       "    font-family: \"PT Mono\";\n",
       "    font-size: 90%;\n",
       "}\n",
       "\n",
       "</style>\n",
       "<script>\n",
       "    MathJax.Hub.Config({\n",
       "                        TeX: {\n",
       "                           extensions: [\"AMSmath.js\"],\n",
       "                           equationNumbers: { autoNumber: \"AMS\", useLabelIds: true}\n",
       "                           },\n",
       "                tex2jax: {\n",
       "                    inlineMath: [ ['$','$'], [\"\\\\(\",\"\\\\)\"] ],\n",
       "                    displayMath: [ ['$$','$$'], [\"\\\\[\",\"\\\\]\"] ]\n",
       "                },\n",
       "                displayAlign: 'center', // Change this to 'center' to center equations.\n",
       "                \"HTML-CSS\": {\n",
       "                    styles: {'.MathJax_Display': {\"margin\": 4}}\n",
       "                }\n",
       "        });\n",
       "</script>\n"
      ],
      "text/plain": [
       "<IPython.core.display.HTML object>"
      ]
     },
     "execution_count": 72,
     "metadata": {},
     "output_type": "execute_result"
    }
   ],
   "source": [
    "# Execute this cell to load the notebook's style sheet, then ignore it\n",
    "from IPython.core.display import HTML\n",
    "css_file ='numericalmoocstyle.css'\n",
    "HTML(open(css_file, \"r\").read())"
   ]
  }
 ],
 "metadata": {
  "kernelspec": {
   "display_name": "Python 3",
   "language": "python",
   "name": "python3"
  },
  "language_info": {
   "codemirror_mode": {
    "name": "ipython",
    "version": 3
   },
   "file_extension": ".py",
   "mimetype": "text/x-python",
   "name": "python",
   "nbconvert_exporter": "python",
   "pygments_lexer": "ipython3",
   "version": "3.4.3"
  }
 },
 "nbformat": 4,
 "nbformat_minor": 0
}
